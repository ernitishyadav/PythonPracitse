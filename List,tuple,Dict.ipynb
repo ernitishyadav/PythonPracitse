{
 "cells": [
  {
   "cell_type": "code",
   "execution_count": 2,
   "id": "53103f6d-d73d-4dd6-acb3-9c33ae892a8c",
   "metadata": {},
   "outputs": [
    {
     "data": {
      "text/plain": [
       "[0, 1, 2, 3, 4, 5, 6, 7, 8, 9]"
      ]
     },
     "execution_count": 2,
     "metadata": {},
     "output_type": "execute_result"
    }
   ],
   "source": [
    "list(range(10))"
   ]
  },
  {
   "cell_type": "code",
   "execution_count": 4,
   "id": "bf34ddff-0c3f-41e0-8c3b-ff67f4b742c2",
   "metadata": {},
   "outputs": [
    {
     "data": {
      "text/plain": [
       "range(0, 10)"
      ]
     },
     "execution_count": 4,
     "metadata": {},
     "output_type": "execute_result"
    }
   ],
   "source": [
    "range(10)"
   ]
  },
  {
   "cell_type": "code",
   "execution_count": 6,
   "id": "72609747-0c09-4134-b651-4e1d8bd0218b",
   "metadata": {},
   "outputs": [],
   "source": [
    "a = list(range(3,10))"
   ]
  },
  {
   "cell_type": "code",
   "execution_count": 8,
   "id": "5b92f9fe-b3c7-4916-8ca4-f11f1650e60c",
   "metadata": {},
   "outputs": [
    {
     "data": {
      "text/plain": [
       "[3, 4, 5, 6, 7, 8, 9]"
      ]
     },
     "execution_count": 8,
     "metadata": {},
     "output_type": "execute_result"
    }
   ],
   "source": [
    "a"
   ]
  },
  {
   "cell_type": "code",
   "execution_count": 10,
   "id": "74f9b7ca-a057-40ab-b029-eeed94c67aa3",
   "metadata": {},
   "outputs": [
    {
     "data": {
      "text/plain": [
       "[3, 5, 7, 9]"
      ]
     },
     "execution_count": 10,
     "metadata": {},
     "output_type": "execute_result"
    }
   ],
   "source": [
    "list(range(3,10,2))"
   ]
  },
  {
   "cell_type": "code",
   "execution_count": 12,
   "id": "fc46db4b-b631-4c76-b5af-2d5c4cd79f55",
   "metadata": {},
   "outputs": [
    {
     "data": {
      "text/plain": [
       "[10, 8, 6, 4]"
      ]
     },
     "execution_count": 12,
     "metadata": {},
     "output_type": "execute_result"
    }
   ],
   "source": [
    "list(range(10,3,-2))"
   ]
  },
  {
   "cell_type": "code",
   "execution_count": 14,
   "id": "558db80b-9ff2-46f0-a36b-363d96a44bf4",
   "metadata": {},
   "outputs": [],
   "source": [
    "a = [1,2,3,4,5,6]"
   ]
  },
  {
   "cell_type": "code",
   "execution_count": 16,
   "id": "9fcdb4cd-832f-485a-9188-3f5614604b06",
   "metadata": {},
   "outputs": [
    {
     "data": {
      "text/plain": [
       "[2, 4, 6, 8, 10, 12]"
      ]
     },
     "execution_count": 16,
     "metadata": {},
     "output_type": "execute_result"
    }
   ],
   "source": [
    "[i*2 for i in a]"
   ]
  },
  {
   "cell_type": "code",
   "execution_count": 20,
   "id": "3b45c759-a4f8-485a-96c2-3edf652fd2e1",
   "metadata": {},
   "outputs": [
    {
     "name": "stdout",
     "output_type": "stream",
     "text": [
      "Odd\n",
      "even\n",
      "Odd\n",
      "even\n",
      "Odd\n",
      "even\n"
     ]
    }
   ],
   "source": [
    "for i in a:\n",
    "    if(i%2==0):\n",
    "        print(\"even\")\n",
    "    else:\n",
    "        print(\"Odd\")"
   ]
  },
  {
   "cell_type": "code",
   "execution_count": 32,
   "id": "1f1c5984-02d9-4721-98b3-7c4d81514cf3",
   "metadata": {},
   "outputs": [
    {
     "name": "stdin",
     "output_type": "stream",
     "text": [
      "enter your number 66\n"
     ]
    },
    {
     "name": "stdout",
     "output_type": "stream",
     "text": [
      "even\n"
     ]
    }
   ],
   "source": [
    "a = int(input(\"enter your number\"))\n",
    "if(a%2==0):\n",
    "    print(\"even\")\n",
    "else:\n",
    "    print(\"Odd\")"
   ]
  },
  {
   "cell_type": "code",
   "execution_count": 64,
   "id": "a9a7eb52-2658-4d19-9871-af066e742563",
   "metadata": {},
   "outputs": [
    {
     "name": "stdout",
     "output_type": "stream",
     "text": [
      "[1, 2, 3, 4, 5, [6, 7, 8, 9]]\n"
     ]
    }
   ],
   "source": [
    "a = [1, 2, 3, 4, 5]\n",
    "b = [6, 7, 8, 9]\n",
    "\n",
    "a.append(b)\n",
    "print(a)\n"
   ]
  },
  {
   "cell_type": "code",
   "execution_count": 66,
   "id": "b1afd755-66c2-4ac6-9812-b139ef977fa6",
   "metadata": {},
   "outputs": [],
   "source": [
    "a.extend(b)"
   ]
  },
  {
   "cell_type": "code",
   "execution_count": 68,
   "id": "91714246-5db1-4642-8070-dc77e91750d7",
   "metadata": {},
   "outputs": [
    {
     "name": "stdout",
     "output_type": "stream",
     "text": [
      "[1, 2, 3, 4, 5, [6, 7, 8, 9], 6, 7, 8, 9]\n"
     ]
    }
   ],
   "source": [
    "print(a)"
   ]
  },
  {
   "cell_type": "code",
   "execution_count": 72,
   "id": "b04f9577-cbca-45cc-bf0a-20451fdf6ecf",
   "metadata": {},
   "outputs": [],
   "source": [
    "a = \"23451\""
   ]
  },
  {
   "cell_type": "code",
   "execution_count": 74,
   "id": "33c722d4-24b2-48f2-b6ff-b850f7823d14",
   "metadata": {},
   "outputs": [
    {
     "data": {
      "text/plain": [
       "4"
      ]
     },
     "execution_count": 74,
     "metadata": {},
     "output_type": "execute_result"
    }
   ],
   "source": [
    "a.find(\"1\")"
   ]
  },
  {
   "cell_type": "code",
   "execution_count": 76,
   "id": "0bd51cda-d75c-4c73-be99-c31e9012222a",
   "metadata": {},
   "outputs": [],
   "source": [
    "dd =[1,2,3,4,5,6]"
   ]
  },
  {
   "cell_type": "code",
   "execution_count": 78,
   "id": "d15d408a-c86e-44f3-9edd-554b8ecbb08d",
   "metadata": {},
   "outputs": [
    {
     "data": {
      "text/plain": [
       "[3, 4, 5, 6]"
      ]
     },
     "execution_count": 78,
     "metadata": {},
     "output_type": "execute_result"
    }
   ],
   "source": [
    "dd[2:]"
   ]
  },
  {
   "cell_type": "code",
   "execution_count": 80,
   "id": "ec1655f4-41b0-4627-a5b0-2888b14436af",
   "metadata": {},
   "outputs": [
    {
     "data": {
      "text/plain": [
       "[1, 2, 3, 4, 5, 6]"
      ]
     },
     "execution_count": 80,
     "metadata": {},
     "output_type": "execute_result"
    }
   ],
   "source": [
    "dd[:6]"
   ]
  },
  {
   "cell_type": "code",
   "execution_count": 82,
   "id": "6897e0a2-1715-4456-9b83-405d46c16158",
   "metadata": {},
   "outputs": [
    {
     "data": {
      "text/plain": [
       "[1, 2, 3, 4]"
      ]
     },
     "execution_count": 82,
     "metadata": {},
     "output_type": "execute_result"
    }
   ],
   "source": [
    "dd[:4]"
   ]
  },
  {
   "cell_type": "code",
   "execution_count": 84,
   "id": "4668443f-f6a0-496f-8323-ce73699aeef6",
   "metadata": {},
   "outputs": [],
   "source": [
    "a = [1,2,3,4,5,6,7,8,9]"
   ]
  },
  {
   "cell_type": "code",
   "execution_count": 88,
   "id": "6691a17c-55e5-44da-9f0e-f5d40beba705",
   "metadata": {},
   "outputs": [],
   "source": [
    "c=[]\n",
    "d=[]\n",
    "for i in a:\n",
    "    if(i%2==0):\n",
    "        c.append(i)\n",
    "    else:\n",
    "        d.append(i)"
   ]
  },
  {
   "cell_type": "code",
   "execution_count": 90,
   "id": "28c54dd1-ea9e-47a6-88e1-b33ada244813",
   "metadata": {},
   "outputs": [
    {
     "data": {
      "text/plain": [
       "[2, 4, 6, 8]"
      ]
     },
     "execution_count": 90,
     "metadata": {},
     "output_type": "execute_result"
    }
   ],
   "source": [
    "c"
   ]
  },
  {
   "cell_type": "code",
   "execution_count": 92,
   "id": "3d936357-3486-4b74-abfa-39c6c5bb332c",
   "metadata": {},
   "outputs": [
    {
     "data": {
      "text/plain": [
       "[1, 3, 5, 7, 9]"
      ]
     },
     "execution_count": 92,
     "metadata": {},
     "output_type": "execute_result"
    }
   ],
   "source": [
    "d"
   ]
  },
  {
   "cell_type": "code",
   "execution_count": 152,
   "id": "61b39c36-eb02-4a63-beb8-e11acd161c45",
   "metadata": {},
   "outputs": [],
   "source": [
    "aa = [1,2,3,4,5,6,7,8,9]\n",
    "e=[]\n",
    "f=[]\n",
    "for i in range(len(aa)):\n",
    "    if(aa[i]%2==0):\n",
    "        e.append(aa[i])\n",
    "    else:\n",
    "        f.append(aa[i])\n",
    "                \n",
    "        "
   ]
  },
  {
   "cell_type": "code",
   "execution_count": 154,
   "id": "60460c1e-8684-49af-b230-707324a88b93",
   "metadata": {},
   "outputs": [
    {
     "data": {
      "text/plain": [
       "[2, 4, 6, 8]"
      ]
     },
     "execution_count": 154,
     "metadata": {},
     "output_type": "execute_result"
    }
   ],
   "source": [
    "e"
   ]
  },
  {
   "cell_type": "code",
   "execution_count": 156,
   "id": "d0d44eaf-1198-49a4-9568-93f9539fff43",
   "metadata": {},
   "outputs": [
    {
     "data": {
      "text/plain": [
       "[1, 3, 5, 7, 9]"
      ]
     },
     "execution_count": 156,
     "metadata": {},
     "output_type": "execute_result"
    }
   ],
   "source": [
    "f"
   ]
  },
  {
   "cell_type": "code",
   "execution_count": 160,
   "id": "e5491a80-4193-444b-8691-9b817cf33ff3",
   "metadata": {},
   "outputs": [],
   "source": [
    "a = [1,2,3,4,5]"
   ]
  },
  {
   "cell_type": "code",
   "execution_count": 166,
   "id": "76e4b99c-4993-4004-8ada-ae426b6598b0",
   "metadata": {},
   "outputs": [],
   "source": [
    "a[2] = 4"
   ]
  },
  {
   "cell_type": "code",
   "execution_count": 168,
   "id": "41008a47-046a-4a72-ac69-1f99d3212859",
   "metadata": {},
   "outputs": [
    {
     "data": {
      "text/plain": [
       "[1, 2, 4, 4, 5]"
      ]
     },
     "execution_count": 168,
     "metadata": {},
     "output_type": "execute_result"
    }
   ],
   "source": [
    "a"
   ]
  },
  {
   "cell_type": "code",
   "execution_count": 194,
   "id": "5691d900-b731-4c7d-9491-afc9546dd9b9",
   "metadata": {},
   "outputs": [],
   "source": [
    "a.insert(3,55)"
   ]
  },
  {
   "cell_type": "code",
   "execution_count": 196,
   "id": "8eb015f4-aa53-453d-b4ff-f274ca7804ad",
   "metadata": {},
   "outputs": [
    {
     "data": {
      "text/plain": [
       "[55]"
      ]
     },
     "execution_count": 196,
     "metadata": {},
     "output_type": "execute_result"
    }
   ],
   "source": [
    "a"
   ]
  },
  {
   "cell_type": "code",
   "execution_count": 198,
   "id": "d1180833-8c21-4aa2-85a1-7b670554b8e3",
   "metadata": {},
   "outputs": [
    {
     "data": {
      "text/plain": [
       "55"
      ]
     },
     "execution_count": 198,
     "metadata": {},
     "output_type": "execute_result"
    }
   ],
   "source": [
    "a.pop()"
   ]
  },
  {
   "cell_type": "code",
   "execution_count": 200,
   "id": "6f0f3d59-97d6-4125-9b48-cb6ae6a6461e",
   "metadata": {},
   "outputs": [
    {
     "data": {
      "text/plain": [
       "[]"
      ]
     },
     "execution_count": 200,
     "metadata": {},
     "output_type": "execute_result"
    }
   ],
   "source": [
    "a"
   ]
  },
  {
   "cell_type": "code",
   "execution_count": 204,
   "id": "c0e7b3ab-54ea-464c-bed7-38b257eb3bbd",
   "metadata": {},
   "outputs": [],
   "source": [
    "a_list = []\n",
    "a_tuple = ()\n",
    "a_set ={}"
   ]
  },
  {
   "cell_type": "code",
   "execution_count": 208,
   "id": "4f9247d0-21ab-4b5d-8a59-4e2b88374fdc",
   "metadata": {},
   "outputs": [
    {
     "data": {
      "text/plain": [
       "list"
      ]
     },
     "execution_count": 208,
     "metadata": {},
     "output_type": "execute_result"
    }
   ],
   "source": [
    "type(a_list)"
   ]
  },
  {
   "cell_type": "code",
   "execution_count": 210,
   "id": "1e432e38-2183-46e9-ba32-faa4fca039cf",
   "metadata": {},
   "outputs": [
    {
     "data": {
      "text/plain": [
       "tuple"
      ]
     },
     "execution_count": 210,
     "metadata": {},
     "output_type": "execute_result"
    }
   ],
   "source": [
    "type(a_tuple)"
   ]
  },
  {
   "cell_type": "code",
   "execution_count": 212,
   "id": "7fa53871-110c-4ef6-8b68-e26a2f26ac9d",
   "metadata": {},
   "outputs": [
    {
     "data": {
      "text/plain": [
       "dict"
      ]
     },
     "execution_count": 212,
     "metadata": {},
     "output_type": "execute_result"
    }
   ],
   "source": [
    "type(a_set)"
   ]
  },
  {
   "cell_type": "code",
   "execution_count": 214,
   "id": "964ad972-e3de-430f-b92c-954175990469",
   "metadata": {},
   "outputs": [],
   "source": [
    "a_tuple = (1,2,3,4,5,6,7,7,7,8,9)"
   ]
  },
  {
   "cell_type": "code",
   "execution_count": 216,
   "id": "0f9331b4-7523-49fc-b404-165e0e5794e4",
   "metadata": {},
   "outputs": [
    {
     "data": {
      "text/plain": [
       "(1, 2, 3, 4, 5, 6, 7, 7, 7, 8, 9)"
      ]
     },
     "execution_count": 216,
     "metadata": {},
     "output_type": "execute_result"
    }
   ],
   "source": [
    "a_tuple"
   ]
  },
  {
   "cell_type": "code",
   "execution_count": 224,
   "id": "a54974b1-a97b-41c6-9e60-f2fc3d48b1c5",
   "metadata": {},
   "outputs": [
    {
     "data": {
      "text/plain": [
       "2"
      ]
     },
     "execution_count": 224,
     "metadata": {},
     "output_type": "execute_result"
    }
   ],
   "source": [
    "a_tuple[1] "
   ]
  },
  {
   "cell_type": "code",
   "execution_count": 228,
   "id": "6476028f-36ff-49d5-ac6d-931b5fb9f5cc",
   "metadata": {},
   "outputs": [
    {
     "data": {
      "text/plain": [
       "3"
      ]
     },
     "execution_count": 228,
     "metadata": {},
     "output_type": "execute_result"
    }
   ],
   "source": [
    "a_tuple.count(7)"
   ]
  },
  {
   "cell_type": "code",
   "execution_count": 230,
   "id": "b223f5d5-b3c2-451f-b768-880a1268d780",
   "metadata": {},
   "outputs": [
    {
     "data": {
      "text/plain": [
       "1"
      ]
     },
     "execution_count": 230,
     "metadata": {},
     "output_type": "execute_result"
    }
   ],
   "source": [
    "a_tuple.index(2)"
   ]
  },
  {
   "cell_type": "code",
   "execution_count": 236,
   "id": "772cc30a-37b9-4a27-b66c-b6731b30b49f",
   "metadata": {},
   "outputs": [],
   "source": [
    "b_tuple  =(2,3,4,5,6,7)"
   ]
  },
  {
   "cell_type": "code",
   "execution_count": 240,
   "id": "b895f61e-afb8-43d6-a769-7dc32076ec76",
   "metadata": {},
   "outputs": [],
   "source": [
    "new_tuple = a_tuple+b_tuple"
   ]
  },
  {
   "cell_type": "code",
   "execution_count": 242,
   "id": "935adb50-8598-41d1-959f-2af7de6d8e4a",
   "metadata": {},
   "outputs": [
    {
     "data": {
      "text/plain": [
       "(1, 2, 3, 4, 5, 6, 7, 7, 7, 8, 9, 2, 3, 4, 5, 6, 7)"
      ]
     },
     "execution_count": 242,
     "metadata": {},
     "output_type": "execute_result"
    }
   ],
   "source": [
    "new_tuple"
   ]
  },
  {
   "cell_type": "code",
   "execution_count": 244,
   "id": "86634431-4cdc-4ab6-a453-7b6e278b8d3e",
   "metadata": {},
   "outputs": [],
   "source": [
    "a_set = {2}"
   ]
  },
  {
   "cell_type": "code",
   "execution_count": 246,
   "id": "e8bc8542-e54f-44a4-8bc8-1f4d40741999",
   "metadata": {},
   "outputs": [
    {
     "data": {
      "text/plain": [
       "set"
      ]
     },
     "execution_count": 246,
     "metadata": {},
     "output_type": "execute_result"
    }
   ],
   "source": [
    "type(a_set)"
   ]
  },
  {
   "cell_type": "code",
   "execution_count": 252,
   "id": "17035ec8-c3b3-4e15-89a2-2cdeeff28d32",
   "metadata": {},
   "outputs": [
    {
     "name": "stdout",
     "output_type": "stream",
     "text": [
      "1\n",
      "2\n",
      "3\n",
      "4\n",
      "5\n",
      "6\n",
      "7\n",
      "7\n",
      "7\n",
      "8\n",
      "9\n"
     ]
    }
   ],
   "source": [
    "for a in a_tuple:\n",
    "    print(a)\n",
    "    "
   ]
  },
  {
   "cell_type": "code",
   "execution_count": 260,
   "id": "d87ced92-1dcc-439c-baa2-c3349a23f375",
   "metadata": {},
   "outputs": [],
   "source": [
    "\n",
    "a_set = {2}\n",
    "a_set.add(3)\n",
    "a_set.add(4)"
   ]
  },
  {
   "cell_type": "code",
   "execution_count": 262,
   "id": "67a39400-d800-4c4e-86b9-de9d01fd54e3",
   "metadata": {},
   "outputs": [
    {
     "data": {
      "text/plain": [
       "{2, 3, 4}"
      ]
     },
     "execution_count": 262,
     "metadata": {},
     "output_type": "execute_result"
    }
   ],
   "source": [
    "a_set"
   ]
  },
  {
   "cell_type": "code",
   "execution_count": 264,
   "id": "45fb8582-2d93-4d83-9a6c-627a40c82a15",
   "metadata": {},
   "outputs": [],
   "source": [
    "a_list =[1,2,3,4,5,5]"
   ]
  },
  {
   "cell_type": "code",
   "execution_count": 266,
   "id": "a867a45d-8a41-4e90-9c4e-068a98f47449",
   "metadata": {},
   "outputs": [],
   "source": [
    "a_list[4] = 9"
   ]
  },
  {
   "cell_type": "code",
   "execution_count": 268,
   "id": "c22ed22f-dd30-467c-ad9c-31e45cc8dd37",
   "metadata": {},
   "outputs": [
    {
     "data": {
      "text/plain": [
       "[1, 2, 3, 4, 9, 5]"
      ]
     },
     "execution_count": 268,
     "metadata": {},
     "output_type": "execute_result"
    }
   ],
   "source": [
    "a_list"
   ]
  },
  {
   "cell_type": "code",
   "execution_count": 274,
   "id": "78dffe69-89a7-41ec-aeae-4d70588a3a20",
   "metadata": {},
   "outputs": [],
   "source": [
    "a_list.insert(-2,10)"
   ]
  },
  {
   "cell_type": "code",
   "execution_count": 279,
   "id": "aca0d1da-ae34-4a27-9cb6-fb5672d0d7fa",
   "metadata": {},
   "outputs": [
    {
     "data": {
      "text/plain": [
       "[1, 2, 3, 4, 9, 10, 5, -2]"
      ]
     },
     "execution_count": 279,
     "metadata": {},
     "output_type": "execute_result"
    }
   ],
   "source": [
    "a_list"
   ]
  },
  {
   "cell_type": "code",
   "execution_count": null,
   "id": "898418c9-6424-4484-adcd-3034e51ac0a1",
   "metadata": {},
   "outputs": [],
   "source": [
    "a_list("
   ]
  },
  {
   "cell_type": "code",
   "execution_count": 281,
   "id": "eb8d2777-4390-45bb-9fe7-311ae07436d1",
   "metadata": {},
   "outputs": [
    {
     "ename": "TypeError",
     "evalue": "'set' object does not support item assignment",
     "output_type": "error",
     "traceback": [
      "\u001b[1;31m---------------------------------------------------------------------------\u001b[0m",
      "\u001b[1;31mTypeError\u001b[0m                                 Traceback (most recent call last)",
      "Cell \u001b[1;32mIn[281], line 2\u001b[0m\n\u001b[0;32m      1\u001b[0m a_set \u001b[38;5;241m=\u001b[39m {\u001b[38;5;241m2\u001b[39m}\n\u001b[1;32m----> 2\u001b[0m a_set[\u001b[38;5;241m1\u001b[39m] \u001b[38;5;241m=\u001b[39m\u001b[38;5;241m2\u001b[39m\n",
      "\u001b[1;31mTypeError\u001b[0m: 'set' object does not support item assignment"
     ]
    }
   ],
   "source": [
    "\n",
    "a_set = {2}\n",
    "a_set[1] =2"
   ]
  },
  {
   "cell_type": "code",
   "execution_count": 283,
   "id": "f11eb2a9-eec0-42ef-8aa1-b7f3f4f25df1",
   "metadata": {},
   "outputs": [],
   "source": [
    "ab =[1,2,3,4]"
   ]
  },
  {
   "cell_type": "code",
   "execution_count": 285,
   "id": "2fae180e-90d0-46a6-9894-597ffa7b5635",
   "metadata": {},
   "outputs": [],
   "source": [
    "ab.insert(5,2)"
   ]
  },
  {
   "cell_type": "code",
   "execution_count": 287,
   "id": "7b1d66f1-ccfe-41b9-95f8-c841a0dd43f6",
   "metadata": {},
   "outputs": [
    {
     "data": {
      "text/plain": [
       "[1, 2, 3, 4, 2]"
      ]
     },
     "execution_count": 287,
     "metadata": {},
     "output_type": "execute_result"
    }
   ],
   "source": [
    "ab"
   ]
  },
  {
   "cell_type": "code",
   "execution_count": 291,
   "id": "be396ccb-2c2d-453a-bce5-2e15c4eebad9",
   "metadata": {},
   "outputs": [
    {
     "data": {
      "text/plain": [
       "4"
      ]
     },
     "execution_count": 291,
     "metadata": {},
     "output_type": "execute_result"
    }
   ],
   "source": [
    "ab.pop()"
   ]
  },
  {
   "cell_type": "code",
   "execution_count": 294,
   "id": "5cb4edf8-39e0-4514-8fe9-e25c0a5d014d",
   "metadata": {},
   "outputs": [
    {
     "data": {
      "text/plain": [
       "[1, 2, 3]"
      ]
     },
     "execution_count": 294,
     "metadata": {},
     "output_type": "execute_result"
    }
   ],
   "source": [
    "ab"
   ]
  },
  {
   "cell_type": "code",
   "execution_count": 296,
   "id": "2e13406a-11d5-4304-b661-66e933896223",
   "metadata": {},
   "outputs": [],
   "source": [
    "ab.insert(1,10)"
   ]
  },
  {
   "cell_type": "code",
   "execution_count": 298,
   "id": "aa240d2d-6891-4498-bd70-6f4d941e8bf3",
   "metadata": {},
   "outputs": [
    {
     "data": {
      "text/plain": [
       "[1, 10, 2, 3]"
      ]
     },
     "execution_count": 298,
     "metadata": {},
     "output_type": "execute_result"
    }
   ],
   "source": [
    "ab"
   ]
  },
  {
   "cell_type": "code",
   "execution_count": 300,
   "id": "5e67d931-461a-4d11-9e9e-09d078953e5b",
   "metadata": {},
   "outputs": [],
   "source": [
    "ab.insert(-2,100)"
   ]
  },
  {
   "cell_type": "code",
   "execution_count": 302,
   "id": "f1b91bb5-a1a3-4038-b961-0ddb75c69f1a",
   "metadata": {},
   "outputs": [
    {
     "data": {
      "text/plain": [
       "[1, 10, 100, 2, 3]"
      ]
     },
     "execution_count": 302,
     "metadata": {},
     "output_type": "execute_result"
    }
   ],
   "source": [
    "ab"
   ]
  },
  {
   "cell_type": "code",
   "execution_count": 304,
   "id": "b70e2aa0-d3ef-4b29-a893-4329bc8c19cb",
   "metadata": {},
   "outputs": [
    {
     "data": {
      "text/plain": [
       "[1, 10, 100, 2, 3]"
      ]
     },
     "execution_count": 304,
     "metadata": {},
     "output_type": "execute_result"
    }
   ],
   "source": [
    "ab"
   ]
  },
  {
   "cell_type": "code",
   "execution_count": 306,
   "id": "7815710a-08cb-4896-9363-9c4d1cf501d6",
   "metadata": {},
   "outputs": [],
   "source": [
    "cd = set(ab)"
   ]
  },
  {
   "cell_type": "code",
   "execution_count": 308,
   "id": "d4855198-851b-439b-a591-d6eb8072d448",
   "metadata": {},
   "outputs": [
    {
     "data": {
      "text/plain": [
       "{1, 2, 3, 10, 100}"
      ]
     },
     "execution_count": 308,
     "metadata": {},
     "output_type": "execute_result"
    }
   ],
   "source": [
    "cd"
   ]
  },
  {
   "cell_type": "code",
   "execution_count": 314,
   "id": "1f9b2112-4ee0-4da0-b0f9-eceaa304f5b5",
   "metadata": {},
   "outputs": [],
   "source": [
    "duplicate_list = [1,2,3,4,4,4,4,4,4,4,4,5,5,5,5,5,6,6,6,7,7,7,8,9,2,]"
   ]
  },
  {
   "cell_type": "code",
   "execution_count": 316,
   "id": "02f08af7-48c8-4f8b-a7bb-d45db82d1789",
   "metadata": {},
   "outputs": [],
   "source": [
    "remove_duplicate_Set = set(duplicate_list)"
   ]
  },
  {
   "cell_type": "code",
   "execution_count": 318,
   "id": "e7192a5e-a38e-4756-a3ad-33f6d656d379",
   "metadata": {},
   "outputs": [
    {
     "data": {
      "text/plain": [
       "{1, 2, 3, 4, 5, 6, 7, 8, 9}"
      ]
     },
     "execution_count": 318,
     "metadata": {},
     "output_type": "execute_result"
    }
   ],
   "source": [
    "remove_duplicate_Set"
   ]
  },
  {
   "cell_type": "code",
   "execution_count": 322,
   "id": "1879173a-97fe-4fc0-9ecb-e9a822ae6bdd",
   "metadata": {},
   "outputs": [],
   "source": [
    "remove_duplicate_Set.remove(9)"
   ]
  },
  {
   "cell_type": "code",
   "execution_count": 324,
   "id": "30be31e3-0ea1-49f5-aacb-0e2b5810b791",
   "metadata": {},
   "outputs": [
    {
     "data": {
      "text/plain": [
       "{1, 2, 3, 4, 5, 6, 7, 8}"
      ]
     },
     "execution_count": 324,
     "metadata": {},
     "output_type": "execute_result"
    }
   ],
   "source": [
    "remove_duplicate_Set"
   ]
  },
  {
   "cell_type": "code",
   "execution_count": 331,
   "id": "d53c8404-2769-412c-a5d9-f12b113924ce",
   "metadata": {},
   "outputs": [
    {
     "data": {
      "text/plain": [
       "3"
      ]
     },
     "execution_count": 331,
     "metadata": {},
     "output_type": "execute_result"
    }
   ],
   "source": [
    "remove_duplicate_Set.pop()"
   ]
  },
  {
   "cell_type": "code",
   "execution_count": 333,
   "id": "e1f5d049-1af1-4187-89e8-78450a3aa37b",
   "metadata": {},
   "outputs": [
    {
     "data": {
      "text/plain": [
       "{4, 5, 6, 7, 8}"
      ]
     },
     "execution_count": 333,
     "metadata": {},
     "output_type": "execute_result"
    }
   ],
   "source": [
    "remove_duplicate_Set"
   ]
  },
  {
   "cell_type": "code",
   "execution_count": 349,
   "id": "98dc3702-b308-44cc-9861-9946b2dff54d",
   "metadata": {},
   "outputs": [],
   "source": [
    "remove_duplicate_Set.add(99)\n",
    "remove_duplicate_Set.add('#')\n",
    "remove_duplicate_Set.add(44)"
   ]
  },
  {
   "cell_type": "code",
   "execution_count": 351,
   "id": "1dc6ecdd-9f00-42ac-a82b-822e53f03e83",
   "metadata": {},
   "outputs": [],
   "source": [
    "remove_duplicate_Set.add('*')\n",
    "remove_duplicate_Set.add('@')\n",
    "remove_duplicate_Set.add('%%')"
   ]
  },
  {
   "cell_type": "code",
   "execution_count": 353,
   "id": "6655aa61-35d2-4b80-a6c9-024a7fda83af",
   "metadata": {},
   "outputs": [
    {
     "data": {
      "text/plain": [
       "{'#', '%%', '*', 4, 44, 5, 6, 7, 8, 99, '@'}"
      ]
     },
     "execution_count": 353,
     "metadata": {},
     "output_type": "execute_result"
    }
   ],
   "source": [
    "remove_duplicate_Set"
   ]
  },
  {
   "cell_type": "code",
   "execution_count": 355,
   "id": "9b1939bb-212c-4967-854b-8479ec5f7d0b",
   "metadata": {},
   "outputs": [
    {
     "data": {
      "text/plain": [
       "4"
      ]
     },
     "execution_count": 355,
     "metadata": {},
     "output_type": "execute_result"
    }
   ],
   "source": [
    "remove_duplicate_Set.pop()"
   ]
  },
  {
   "cell_type": "code",
   "execution_count": 359,
   "id": "a6607e01-693c-4ebf-b267-a43c658e4278",
   "metadata": {},
   "outputs": [
    {
     "name": "stdout",
     "output_type": "stream",
     "text": [
      "5\n",
      "6\n",
      "7\n",
      "8\n",
      "99\n",
      "*\n",
      "44\n",
      "@\n",
      "#\n",
      "%%\n"
     ]
    }
   ],
   "source": [
    "for i in remove_duplicate_Set:\n",
    "    print(i)"
   ]
  },
  {
   "cell_type": "code",
   "execution_count": 363,
   "id": "ad6773fd-c5e5-4aef-b623-e03f47e3f94e",
   "metadata": {},
   "outputs": [],
   "source": [
    "length = len(remove_duplicate_Set)"
   ]
  },
  {
   "cell_type": "code",
   "execution_count": 365,
   "id": "d135dcf7-a764-4c8c-9bf7-ec9867feeb7a",
   "metadata": {},
   "outputs": [
    {
     "data": {
      "text/plain": [
       "10"
      ]
     },
     "execution_count": 365,
     "metadata": {},
     "output_type": "execute_result"
    }
   ],
   "source": [
    "length"
   ]
  },
  {
   "cell_type": "code",
   "execution_count": 369,
   "id": "69af6a57-87f4-494a-9a22-ca0f5991dcda",
   "metadata": {},
   "outputs": [
    {
     "ename": "TypeError",
     "evalue": "'int' object is not callable",
     "output_type": "error",
     "traceback": [
      "\u001b[1;31m---------------------------------------------------------------------------\u001b[0m",
      "\u001b[1;31mTypeError\u001b[0m                                 Traceback (most recent call last)",
      "Cell \u001b[1;32mIn[369], line 1\u001b[0m\n\u001b[1;32m----> 1\u001b[0m \u001b[38;5;28;01mfor\u001b[39;00m i \u001b[38;5;129;01min\u001b[39;00m \u001b[38;5;28mrange\u001b[39m(length(remove_duplicate_Set)):\n\u001b[0;32m      2\u001b[0m     \u001b[38;5;28mprint\u001b[39m(remove_duplicate_Set[i])\n",
      "\u001b[1;31mTypeError\u001b[0m: 'int' object is not callable"
     ]
    }
   ],
   "source": [
    "for i in range(length(remove_duplicate_Set)):\n",
    "    print(remove_duplicate_Set[i])"
   ]
  },
  {
   "cell_type": "code",
   "execution_count": 371,
   "id": "1ea116cc-5006-4dbd-8767-b0a4e8a47634",
   "metadata": {},
   "outputs": [],
   "source": [
    "set_list = list(remove_duplicate_Set)"
   ]
  },
  {
   "cell_type": "code",
   "execution_count": 373,
   "id": "ff1818af-dc68-4559-8084-496b18fed4b0",
   "metadata": {},
   "outputs": [
    {
     "data": {
      "text/plain": [
       "[5, 6, 7, 8, 99, '*', 44, '@', '#', '%%']"
      ]
     },
     "execution_count": 373,
     "metadata": {},
     "output_type": "execute_result"
    }
   ],
   "source": [
    "set_list"
   ]
  },
  {
   "cell_type": "code",
   "execution_count": 375,
   "id": "6a237a3e-26f2-4c83-be11-e33a979cf377",
   "metadata": {},
   "outputs": [
    {
     "name": "stdout",
     "output_type": "stream",
     "text": [
      "5\n",
      "6\n",
      "7\n",
      "8\n",
      "99\n",
      "*\n",
      "44\n",
      "@\n",
      "#\n",
      "%%\n"
     ]
    }
   ],
   "source": [
    "for i in range(len(set_list)):\n",
    "    print(set_list[i])"
   ]
  },
  {
   "cell_type": "code",
   "execution_count": 377,
   "id": "2228d853-4354-4a51-a9a1-e59420e4f2d7",
   "metadata": {},
   "outputs": [],
   "source": [
    "a_dict = {1:\"rajes\"}"
   ]
  },
  {
   "cell_type": "code",
   "execution_count": 379,
   "id": "05a63f69-94f7-4198-840a-4e984025c7f7",
   "metadata": {},
   "outputs": [
    {
     "data": {
      "text/plain": [
       "{1: 'rajes'}"
      ]
     },
     "execution_count": 379,
     "metadata": {},
     "output_type": "execute_result"
    }
   ],
   "source": [
    "a_dict"
   ]
  },
  {
   "cell_type": "code",
   "execution_count": 381,
   "id": "3a9fde3a-2e05-4078-8801-f6cc63af76a8",
   "metadata": {},
   "outputs": [],
   "source": [
    "dict = {\n",
    "    \"name\": \"rajesh\",\n",
    "    \"rollno\":1,\n",
    "    \"sub\":[\"math\",\"Sci\"]\n",
    "}"
   ]
  },
  {
   "cell_type": "code",
   "execution_count": 383,
   "id": "49e711f9-5146-42a2-b910-02e8bcd11645",
   "metadata": {},
   "outputs": [
    {
     "data": {
      "text/plain": [
       "{'name': 'rajesh', 'rollno': 1, 'sub': ['math', 'Sci']}"
      ]
     },
     "execution_count": 383,
     "metadata": {},
     "output_type": "execute_result"
    }
   ],
   "source": [
    "dict"
   ]
  },
  {
   "cell_type": "code",
   "execution_count": 391,
   "id": "b077d9db-594a-4918-8f84-1beea0d12ffa",
   "metadata": {},
   "outputs": [
    {
     "data": {
      "text/plain": [
       "dict_keys(['name', 'rollno', 'sub'])"
      ]
     },
     "execution_count": 391,
     "metadata": {},
     "output_type": "execute_result"
    }
   ],
   "source": [
    "dict.keys()"
   ]
  },
  {
   "cell_type": "code",
   "execution_count": 393,
   "id": "0d10bafb-327e-40fb-a4c3-61bd5d1b2134",
   "metadata": {},
   "outputs": [
    {
     "data": {
      "text/plain": [
       "dict_values(['rajesh', 1, ['math', 'Sci']])"
      ]
     },
     "execution_count": 393,
     "metadata": {},
     "output_type": "execute_result"
    }
   ],
   "source": [
    "dict.values()"
   ]
  },
  {
   "cell_type": "code",
   "execution_count": 397,
   "id": "762f4845-f101-46c8-bde1-1d540619215a",
   "metadata": {},
   "outputs": [
    {
     "data": {
      "text/plain": [
       "'rajesh'"
      ]
     },
     "execution_count": 397,
     "metadata": {},
     "output_type": "execute_result"
    }
   ],
   "source": [
    "dict[\"name\"]"
   ]
  },
  {
   "cell_type": "code",
   "execution_count": 401,
   "id": "e85e3c8f-a437-42a8-9652-79a7911aa0e4",
   "metadata": {},
   "outputs": [
    {
     "data": {
      "text/plain": [
       "'Sci'"
      ]
     },
     "execution_count": 401,
     "metadata": {},
     "output_type": "execute_result"
    }
   ],
   "source": [
    "dict[\"sub\"][1]"
   ]
  },
  {
   "cell_type": "code",
   "execution_count": 405,
   "id": "84a2d62b-88ef-4f11-ba18-6285cb032d1c",
   "metadata": {},
   "outputs": [
    {
     "data": {
      "text/plain": [
       "dict_items([('name', 'rajesh'), ('rollno', 1), ('sub', ['math', 'Sci'])])"
      ]
     },
     "execution_count": 405,
     "metadata": {},
     "output_type": "execute_result"
    }
   ],
   "source": [
    "dict.items()"
   ]
  },
  {
   "cell_type": "code",
   "execution_count": 409,
   "id": "15ed002a-d62b-4ae1-b045-80f289ee94be",
   "metadata": {},
   "outputs": [
    {
     "data": {
      "text/plain": [
       "True"
      ]
     },
     "execution_count": 409,
     "metadata": {},
     "output_type": "execute_result"
    }
   ],
   "source": [
    "\"sub\" in dict"
   ]
  },
  {
   "cell_type": "code",
   "execution_count": 411,
   "id": "9027299f-8dfb-4326-9d90-353286980677",
   "metadata": {},
   "outputs": [
    {
     "data": {
      "text/plain": [
       "True"
      ]
     },
     "execution_count": 411,
     "metadata": {},
     "output_type": "execute_result"
    }
   ],
   "source": [
    "5 not in dict"
   ]
  },
  {
   "cell_type": "code",
   "execution_count": 413,
   "id": "011db82d-d659-450d-814d-f5c3538b655e",
   "metadata": {},
   "outputs": [
    {
     "name": "stdout",
     "output_type": "stream",
     "text": [
      "rajesh\n",
      "1\n",
      "['math', 'Sci']\n"
     ]
    }
   ],
   "source": [
    "for value in dict.values():\n",
    "    print(value)"
   ]
  },
  {
   "cell_type": "code",
   "execution_count": 419,
   "id": "32662463-581c-4300-8d1b-513575d057a0",
   "metadata": {},
   "outputs": [],
   "source": [
    "del(dict['name'])"
   ]
  },
  {
   "cell_type": "code",
   "execution_count": 421,
   "id": "74d386e1-3453-4d7c-a3ff-601eb4bfb938",
   "metadata": {},
   "outputs": [
    {
     "data": {
      "text/plain": [
       "{'rollno': 1, 'sub': ['math', 'Sci']}"
      ]
     },
     "execution_count": 421,
     "metadata": {},
     "output_type": "execute_result"
    }
   ],
   "source": [
    "dict"
   ]
  },
  {
   "cell_type": "code",
   "execution_count": null,
   "id": "fec564b3-20cc-4a29-836b-45c037ec9903",
   "metadata": {},
   "outputs": [],
   "source": []
  }
 ],
 "metadata": {
  "kernelspec": {
   "display_name": "Python 3 (ipykernel)",
   "language": "python",
   "name": "python3"
  },
  "language_info": {
   "codemirror_mode": {
    "name": "ipython",
    "version": 3
   },
   "file_extension": ".py",
   "mimetype": "text/x-python",
   "name": "python",
   "nbconvert_exporter": "python",
   "pygments_lexer": "ipython3",
   "version": "3.12.4"
  }
 },
 "nbformat": 4,
 "nbformat_minor": 5
}
